{
  "nbformat": 4,
  "nbformat_minor": 0,
  "metadata": {
    "colab": {
      "provenance": [],
      "authorship_tag": "ABX9TyPFPobDyTF3LSjNw6GjDsTr",
      "include_colab_link": true
    },
    "kernelspec": {
      "name": "python3",
      "display_name": "Python 3"
    },
    "language_info": {
      "name": "python"
    }
  },
  "cells": [
    {
      "cell_type": "markdown",
      "metadata": {
        "id": "view-in-github",
        "colab_type": "text"
      },
      "source": [
        "<a href=\"https://colab.research.google.com/github/padmarani10/codemind-c/blob/main/Untitled1.ipynb\" target=\"_parent\"><img src=\"https://colab.research.google.com/assets/colab-badge.svg\" alt=\"Open In Colab\"/></a>"
      ]
    },
    {
      "cell_type": "code",
      "execution_count": null,
      "metadata": {
        "colab": {
          "base_uri": "https://localhost:8080/"
        },
        "id": "8xJOHThF4Iym",
        "outputId": "85e4a40e-ed61-4a12-fe40-d14fab335b87"
      },
      "outputs": [
        {
          "output_type": "execute_result",
          "data": {
            "text/plain": [
              "array([[2],\n",
              "       [5]])"
            ]
          },
          "metadata": {},
          "execution_count": 1
        }
      ],
      "source": [
        "\n",
        "import numpy as np\n",
        "data=([1,2,3],[4,5,6])\n",
        "arr=np.array(data)\n",
        "arr[:,1:2]"
      ]
    },
    {
      "cell_type": "code",
      "source": [
        "import numpy as np\n",
        "data=([[[1,2,3],[4,5,6],[7,8,9]],[[7,8,9],[7,5,4],[1,2,3]]])\n",
        "arr=np.array(data)\n",
        "arr[:,:2,1:]"
      ],
      "metadata": {
        "colab": {
          "base_uri": "https://localhost:8080/"
        },
        "id": "F2jqQrex4QFU",
        "outputId": "ca78124b-34da-4f5b-90c6-64665bad7f24"
      },
      "execution_count": null,
      "outputs": [
        {
          "output_type": "execute_result",
          "data": {
            "text/plain": [
              "array([[[2, 3],\n",
              "        [5, 6]],\n",
              "\n",
              "       [[8, 9],\n",
              "        [5, 4]]])"
            ]
          },
          "metadata": {},
          "execution_count": 2
        }
      ]
    },
    {
      "cell_type": "code",
      "source": [
        "import numpy as np\n",
        "data=([[[1,2,3],[4,5,6],[7,8,9]],[[7,8,9],[7,5,4],[1,2,3]]])\n",
        "arr=np.array(data)\n",
        "arr2=np.transpose(arr,(1,0,2))\n",
        "arr2"
      ],
      "metadata": {
        "colab": {
          "base_uri": "https://localhost:8080/"
        },
        "id": "6gx4ljXC4Wdm",
        "outputId": "4fe1e6f2-4cea-486d-eea4-b3eb6f03f57f"
      },
      "execution_count": null,
      "outputs": [
        {
          "output_type": "execute_result",
          "data": {
            "text/plain": [
              "array([[[1, 2, 3],\n",
              "        [7, 8, 9]],\n",
              "\n",
              "       [[4, 5, 6],\n",
              "        [7, 5, 4]],\n",
              "\n",
              "       [[7, 8, 9],\n",
              "        [1, 2, 3]]])"
            ]
          },
          "metadata": {},
          "execution_count": 3
        }
      ]
    },
    {
      "cell_type": "code",
      "source": [
        "import numpy as np\n",
        "data=([[1,2,3],[4,5,6]])\n",
        "arr=np.array(data)\n",
        "arr2=np.transpose(arr)\n",
        "arr2[1]"
      ],
      "metadata": {
        "colab": {
          "base_uri": "https://localhost:8080/"
        },
        "id": "glo_IFV74eGU",
        "outputId": "09959b6e-b8b8-4cb5-f4f4-71d8485319c0"
      },
      "execution_count": null,
      "outputs": [
        {
          "output_type": "execute_result",
          "data": {
            "text/plain": [
              "array([2, 5])"
            ]
          },
          "metadata": {},
          "execution_count": 4
        }
      ]
    },
    {
      "cell_type": "code",
      "source": [
        "import numpy as np\n",
        "data=([[[1,2,3],[4,5,6],[7,8,9]],[[7,8,9],[7,5,4],[1,2,3]]])\n",
        "arr=np.array(data)\n",
        "arr[0,0:2,0:2]"
      ],
      "metadata": {
        "id": "r41b_YG24ieb",
        "outputId": "35a0f6a1-26d8-4172-cb7c-76c6528eac3b",
        "colab": {
          "base_uri": "https://localhost:8080/"
        }
      },
      "execution_count": null,
      "outputs": [
        {
          "output_type": "execute_result",
          "data": {
            "text/plain": [
              "array([[1, 2],\n",
              "       [4, 5]])"
            ]
          },
          "metadata": {},
          "execution_count": 5
        }
      ]
    }
  ]
}